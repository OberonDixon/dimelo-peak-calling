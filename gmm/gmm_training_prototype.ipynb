{
 "cells": [
  {
   "cell_type": "code",
   "execution_count": 3,
   "id": "b6f255de",
   "metadata": {},
   "outputs": [],
   "source": [
    "import sys\n",
    "import os\n",
    "\n",
    "# Append the parent directory to sys.path\n",
    "parent_dir = os.path.dirname(os.getcwd())\n",
    "sys.path.append(parent_dir)\n",
    "from utils.bw_loader import bigwig_to_arrays_by_chrom"
   ]
  },
  {
   "cell_type": "code",
   "execution_count": 11,
   "id": "38d1948c",
   "metadata": {},
   "outputs": [],
   "source": [
    "from pomegranate.gmm import *\n",
    "from pomegranate.distributions import *"
   ]
  },
  {
   "cell_type": "code",
   "execution_count": 16,
   "id": "0ea15953",
   "metadata": {},
   "outputs": [],
   "source": [
    "d1 = Bernoulli([0.5])"
   ]
  },
  {
   "cell_type": "code",
   "execution_count": null,
   "id": "0afd8dc3",
   "metadata": {},
   "outputs": [],
   "source": []
  }
 ],
 "metadata": {
  "kernelspec": {
   "display_name": "dimelo-peak-calling",
   "language": "python",
   "name": "dimelo-peak-calling"
  },
  "language_info": {
   "codemirror_mode": {
    "name": "ipython",
    "version": 3
   },
   "file_extension": ".py",
   "mimetype": "text/x-python",
   "name": "python",
   "nbconvert_exporter": "python",
   "pygments_lexer": "ipython3",
   "version": "3.11.6"
  }
 },
 "nbformat": 4,
 "nbformat_minor": 5
}
