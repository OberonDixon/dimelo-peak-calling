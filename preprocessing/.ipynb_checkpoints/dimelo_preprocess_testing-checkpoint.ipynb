{
 "cells": [
  {
   "cell_type": "code",
   "execution_count": 1,
   "id": "03bfa3dd",
   "metadata": {},
   "outputs": [],
   "source": [
    "import dimelo as dm\n",
    "import pandas as pd\n",
    "import sqlite3\n",
    "import matplotlib.pyplot as plt\n",
    "import pysam\n",
    "import time\n",
    "import importlib\n",
    "import pyBigWig\n",
    "import numpy as np"
   ]
  },
  {
   "cell_type": "code",
   "execution_count": 2,
   "id": "aa95b275",
   "metadata": {},
   "outputs": [],
   "source": [
    "megalodon_bam_filepath = '/clusterfs/nilah/oberon/dimelo_dev_source/test_inputs/deep_ctcf_mod_mappings_merge.sorted.bam'\n",
    "two_color_r9 = '/clusterfs/nilah/oberon/datasets/dimelo_mA-mGpC/lmnb1-accessibility_20220214_megalodon/barcode10_rabbit-abcam/mod_mappings.10.sorted.bam'\n",
    "two_color_redux = '/clusterfs/nilah/oberon/datasets/dimelo_mA-mGpC/20230702_jm_lmnb1_acessibility_redux/megalodon_all_context/mod_mappings.01.sorted.bam'\n",
    "hia_bam_filepath = '/clusterfs/nilah/ayesha/dimelo/prod_free_Hia5_mod_mappings.sorted.bam'\n",
    "\n",
    "output_dir = '/global/scratch/users/dixonluinenburg/Parallelization_test_outputs/'\n",
    "sql_output = 'test_output'\n",
    "hp1_sample_name = 'gm12878_ctcf_hp1'\n",
    "genome_path = '/clusterfs/nilah/oberon/dimelo_dev_source/test_inputs/genomes/chm13.draft_v1.0.fasta'\n",
    "v1_1_genome_path = '/clusterfs/nilah/oberon/genomes/chm13.draft_v1.1.fasta'\n",
    "hg38_genome_path = '/clusterfs/nilah/ayesha/basenji/baselines/gm12878/data/hg38.fa'"
   ]
  },
  {
   "cell_type": "code",
   "execution_count": 4,
   "id": "7875c0ef",
   "metadata": {},
   "outputs": [],
   "source": [
    "genome_fasta = pysam.FastaFile(v1_1_genome_path)"
   ]
  },
  {
   "cell_type": "code",
   "execution_count": 6,
   "id": "796f3f18",
   "metadata": {},
   "outputs": [
    {
     "name": "stdout",
     "output_type": "stream",
     "text": [
      "248387328\n",
      "242696752\n",
      "201105948\n",
      "193574945\n",
      "182045439\n",
      "172126628\n",
      "160567428\n",
      "146259331\n",
      "150617247\n",
      "134758134\n",
      "135127769\n",
      "133324548\n",
      "113566686\n",
      "101161492\n",
      "99753195\n",
      "96330374\n",
      "84276897\n",
      "80542538\n",
      "61707364\n",
      "66210255\n",
      "45090682\n",
      "51324926\n"
     ]
    }
   ],
   "source": [
    "for chr_num in range(1,23):\n",
    "    print(genome_fasta.get_reference_length(f'chr{chr_num}'))"
   ]
  },
  {
   "cell_type": "code",
   "execution_count": null,
   "id": "6ac64b2f",
   "metadata": {},
   "outputs": [],
   "source": []
  }
 ],
 "metadata": {
  "kernelspec": {
   "display_name": "dimelo_arbitrary_basemod_dev",
   "language": "python",
   "name": "dimelo_arbitrary_basemod_dev"
  },
  "language_info": {
   "codemirror_mode": {
    "name": "ipython",
    "version": 3
   },
   "file_extension": ".py",
   "mimetype": "text/x-python",
   "name": "python",
   "nbconvert_exporter": "python",
   "pygments_lexer": "ipython3",
   "version": "3.7.11"
  }
 },
 "nbformat": 4,
 "nbformat_minor": 5
}
