{
 "cells": [
  {
   "cell_type": "code",
   "execution_count": 1,
   "id": "cf1f521a",
   "metadata": {},
   "outputs": [],
   "source": [
    "import dimelo as dm\n",
    "import pandas as pd\n",
    "import sqlite3\n",
    "import matplotlib.pyplot as plt\n",
    "import pysam\n",
    "import time\n",
    "import importlib\n",
    "import pyBigWig\n",
    "import numpy as np"
   ]
  },
  {
   "cell_type": "code",
   "execution_count": 30,
   "id": "ee947bf1",
   "metadata": {},
   "outputs": [],
   "source": [
    "##This dataset uses v1.0 genome\n",
    "#~31 min on savio3 for chr1 with 24 cores, 29min with 32\n",
    "megalodon_bam_filepath = '/clusterfs/nilah/oberon/dimelo_dev_source/test_inputs/deep_ctcf_mod_mappings_merge.sorted.bam'\n",
    "\n",
    "#This dataset uses v1.1 genome\n",
    "#~21 min on savio3 for chr1 with 32 cores\n",
    "two_color_r9 = '/clusterfs/nilah/oberon/datasets/dimelo_mA-mGpC/lmnb1-accessibility_20220214_megalodon/barcode10_rabbit-abcam/mod_mappings.10.sorted.bam'\n",
    "\n",
    "#This dataset uses v1.1 genome\n",
    "#~21 min on savio3 for chr1 with 32 cores\n",
    "two_color_redux = '/clusterfs/nilah/oberon/datasets/dimelo_mA-mGpC/20230702_jm_lmnb1_acessibility_redux/megalodon_all_context/mod_mappings.01.sorted.bam'\n",
    "\n",
    "#This dataset uses v1.0 genome\n",
    "#22 min to savio3\n",
    "hia_bam_filepath = '/clusterfs/nilah/ayesha/dimelo/prod_free_Hia5_mod_mappings.sorted.bam'\n",
    "\n",
    "#This dataset uses v1.1 genome\n",
    "#~36 min on savio3 for chr1 with 24 cores\n",
    "histone_1_filepath = '/global/scratch/projects/vector_streetslab/amaslan/dimelo_bams/protocol_paper/promethion/streets1_all.mod_mappings.sorted.bam'\n",
    "histone_2_filepath = '/global/scratch/projects/vector_streetslab/amaslan/dimelo_bams/protocol_paper/promethion/streets2_all.mod_mappings.sorted.bam'\n",
    "histone_3_filepath = '/global/scratch/projects/vector_streetslab/amaslan/dimelo_bams/protocol_paper/promethion/streets3_all.mod_mappings.sorted.bam'\n",
    "\n",
    "output_dir = '/global/scratch/users/dixonluinenburg/Parallelization_test_outputs/'\n",
    "sql_output = 'test_output'\n",
    "hp1_sample_name = 'gm12878_ctcf_hp1'\n",
    "genome_path = '/clusterfs/nilah/oberon/dimelo_dev_source/test_inputs/genomes/chm13.draft_v1.0.fasta'\n",
    "v1_1_genome_path = '/clusterfs/nilah/oberon/genomes/chm13.draft_v1.1.fasta'\n",
    "hg38_genome_path = '/clusterfs/nilah/ayesha/basenji/baselines/gm12878/data/hg38.fa'"
   ]
  },
  {
   "cell_type": "code",
   "execution_count": 4,
   "id": "896d1c88",
   "metadata": {},
   "outputs": [],
   "source": [
    "genome_fasta = pysam.FastaFile(v1_1_genome_path)"
   ]
  },
  {
   "cell_type": "code",
   "execution_count": 6,
   "id": "3624a48c",
   "metadata": {},
   "outputs": [
    {
     "name": "stdout",
     "output_type": "stream",
     "text": [
      "248387328\n",
      "242696752\n",
      "201105948\n",
      "193574945\n",
      "182045439\n",
      "172126628\n",
      "160567428\n",
      "146259331\n",
      "150617247\n",
      "134758134\n",
      "135127769\n",
      "133324548\n",
      "113566686\n",
      "101161492\n",
      "99753195\n",
      "96330374\n",
      "84276897\n",
      "80542538\n",
      "61707364\n",
      "66210255\n",
      "45090682\n",
      "51324926\n"
     ]
    }
   ],
   "source": [
    "for chr_num in range(1,23):\n",
    "    print(genome_fasta.get_reference_length(f'chr{chr_num}'))"
   ]
  },
  {
   "cell_type": "code",
   "execution_count": 63,
   "id": "357f8059",
   "metadata": {},
   "outputs": [],
   "source": [
    "cores = 32\n",
    "bases_per_core = 100000000\n",
    "chrom = 'chr1'\n",
    "start_co = 40000000\n",
    "end_co = 80000000\n",
    "thresh = 128\n",
    "sample_name = 'test'"
   ]
  },
  {
   "cell_type": "code",
   "execution_count": 64,
   "id": "61e927b7",
   "metadata": {},
   "outputs": [
    {
     "name": "stdout",
     "output_type": "stream",
     "text": [
      "bases in batch (core allotment reached) 31196704\n",
      "bases in batch (core allotment reached) 31202772\n",
      "bases in batch (core allotment reached) 31206444\n",
      "bases in batch (core allotment reached) 31195668\n",
      "bases in batch (core allotment reached) 31207925\n",
      "bases in batch (core allotment reached) 31242099\n",
      "bases in batch (core allotment reached) 31238983\n",
      "bases in batch (core allotment reached) 31201030\n",
      "bases in batch (core allotment reached) 31213892\n",
      "bases in batch (core allotment reached) 31211772\n",
      "bases in batch (core allotment reached) 31195844\n",
      "bases in batch (core allotment reached) 31199767\n",
      "bases in batch (core allotment reached) 31256906\n",
      "bases in batch (core allotment reached) 31202306\n",
      "bases in batch (core allotment reached) 31237038\n",
      "bases in batch (core allotment reached) 31285524\n",
      "bases in batch (core allotment reached) 31209300\n",
      "bases in batch (core allotment reached) 31202185\n",
      "bases in batch (core allotment reached) 31199260\n",
      "bases in batch (core allotment reached) 31217485\n",
      "bases in batch (core allotment reached) 31198647\n",
      "bases in batch (core allotment reached) 31197756\n",
      "bases in batch (core allotment reached) 31200031\n",
      "bases in batch (core allotment reached) 31195085\n",
      "bases in batch (core allotment reached) 31217720\n",
      "bases in batch (core allotment reached) 31227162\n",
      "bases in batch (core allotment reached) 31199991\n",
      "bases in batch (core allotment reached) 31217717\n",
      "bases in batch (core allotment reached) 31198516\n",
      "bases in batch (core allotment reached) 31228391\n",
      "bases in batch (core allotment reached) 31203729\n",
      "bases in batch (last for core) 30606616\n",
      "Starting up parallel processes, tasklist took 4.396415948867798\n",
      "Starting merge, parallel processing took 60.817017555236816\n",
      "bigwig\n",
      "Merge took 194.49631714820862\n",
      "end-to-end time 259.7151927947998\n"
     ]
    }
   ],
   "source": [
    "start_time = time.time()\n",
    "dm.parse_bam(\n",
    "    megalodon_bam_filepath,\n",
    "    sample_name,output_dir,\n",
    "    basemods=['mA'],\n",
    "    context_check_source = 'both',\n",
    "    region=f'{chrom}:{start_co}-{end_co}',\n",
    "    checkAgainstRef=True,\n",
    "    pipeline='nanopore_megalodon',\n",
    "    thresholds=[thresh,thresh,thresh],\n",
    "    referenceGenome=genome_path,\n",
    "    cores=cores,\n",
    "    memory=cores*bases_per_core,\n",
    "    formats_list=['bigwig']\n",
    ")\n",
    "end_time = time.time()\n",
    "print('end-to-end time',end_time-start_time)"
   ]
  },
  {
   "cell_type": "code",
   "execution_count": 65,
   "id": "f6d752b3",
   "metadata": {},
   "outputs": [
    {
     "name": "stdout",
     "output_type": "stream",
     "text": [
      "estimated total time for chr1 (min): 27.05366591612498\n"
     ]
    }
   ],
   "source": [
    "print('estimated total time for chr1 (min):',(end_time-start_time)*250000000/(end_co-start_co)/60)"
   ]
  },
  {
   "cell_type": "code",
   "execution_count": 61,
   "id": "346ba824",
   "metadata": {},
   "outputs": [],
   "source": [
    "with pyBigWig.open(output_dir+sample_name+'_bigwig_validmA.bw') as bw:\n",
    "    contigs = bw.chroms()\n",
    "    contig = list(contigs.keys())[0]\n",
    "    contig_length = contigs[contig]\n",
    "    values = bw.values(contig,start_co,end_co)\n",
    "    validmA = np.array(values)\n",
    "with pyBigWig.open(output_dir+sample_name+'_bigwig_read_depth.bw') as bw:\n",
    "    contigs = bw.chroms()\n",
    "    contig = list(contigs.keys())[0]\n",
    "    contig_length = contigs[contig]\n",
    "    values = bw.values(contig,start_co,end_co)\n",
    "    read_depth = np.array(values)"
   ]
  },
  {
   "cell_type": "code",
   "execution_count": 62,
   "id": "0707cfe0",
   "metadata": {},
   "outputs": [
    {
     "name": "stdout",
     "output_type": "stream",
     "text": [
      "average read depth 1Mb: 3.7208340345855073\n",
      "adenine fraction over expected 25% 0.9486016344732235\n"
     ]
    }
   ],
   "source": [
    "print('average read depth 1Mb:',np.nanmean(read_depth))\n",
    "print('adenine fraction over expected 25%',np.nanmean(validmA)/np.nanmean(read_depth)/0.295)"
   ]
  },
  {
   "cell_type": "code",
   "execution_count": null,
   "id": "f30bfa6b",
   "metadata": {},
   "outputs": [],
   "source": []
  }
 ],
 "metadata": {
  "kernelspec": {
   "display_name": "dimelo_arbitrary_basemod_dev",
   "language": "python",
   "name": "dimelo_arbitrary_basemod_dev"
  },
  "language_info": {
   "codemirror_mode": {
    "name": "ipython",
    "version": 3
   },
   "file_extension": ".py",
   "mimetype": "text/x-python",
   "name": "python",
   "nbconvert_exporter": "python",
   "pygments_lexer": "ipython3",
   "version": "3.7.11"
  }
 },
 "nbformat": 4,
 "nbformat_minor": 5
}
